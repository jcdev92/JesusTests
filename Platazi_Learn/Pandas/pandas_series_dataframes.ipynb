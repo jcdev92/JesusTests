{
 "cells": [
  {
   "cell_type": "code",
   "execution_count": 1,
   "id": "3d5c412a-4d28-48e0-ad7b-e84e160327dd",
   "metadata": {},
   "outputs": [],
   "source": [
    "import pandas as pd"
   ]
  },
  {
   "cell_type": "code",
   "execution_count": 3,
   "id": "cb9a49a8-ba7b-4473-b8bb-08a87b57f86f",
   "metadata": {},
   "outputs": [],
   "source": [
    "psg_players = pd.Series(['navas', 'mbappe', 'neymar', 'messi'],\n",
    "                        index=[1,7,10,30])"
   ]
  },
  {
   "cell_type": "code",
   "execution_count": 4,
   "id": "1570c5eb-93f2-434d-b5dc-27d9a308974f",
   "metadata": {},
   "outputs": [
    {
     "data": {
      "text/plain": [
       "1      navas\n",
       "7     mbappe\n",
       "10    neymar\n",
       "30     messi\n",
       "dtype: object"
      ]
     },
     "execution_count": 4,
     "metadata": {},
     "output_type": "execute_result"
    }
   ],
   "source": [
    "psg_players"
   ]
  },
  {
   "cell_type": "code",
   "execution_count": 5,
   "id": "6c2d6a03-04df-414d-bce4-fdc2e8438670",
   "metadata": {},
   "outputs": [
    {
     "data": {
      "text/plain": [
       "1      navas\n",
       "7     mbappe\n",
       "10    neymar\n",
       "30     messi\n",
       "dtype: object"
      ]
     },
     "execution_count": 5,
     "metadata": {},
     "output_type": "execute_result"
    }
   ],
   "source": [
    "players = {1: 'navas', 7:'mbappe', 10:'neymar', 30:'messi'}\n",
    "pd.Series(players)"
   ]
  },
  {
   "cell_type": "code",
   "execution_count": 6,
   "id": "7f0da347-ad31-44cf-86f4-0de7ac9722a5",
   "metadata": {},
   "outputs": [
    {
     "data": {
      "text/plain": [
       "'mbappe'"
      ]
     },
     "execution_count": 6,
     "metadata": {},
     "output_type": "execute_result"
    }
   ],
   "source": [
    "psg_players[7]"
   ]
  },
  {
   "cell_type": "code",
   "execution_count": 7,
   "id": "1f250777-2199-4023-af50-5c95cf85ffa7",
   "metadata": {},
   "outputs": [],
   "source": [
    "dict = {'Jugador':['Navas','Mbappe','Neymar','Messi'],\n",
    " 'Altura':[183.0, 170.0, 170.0, 165.0],\n",
    " 'Goles':[2,200,200,200]\n",
    " }"
   ]
  },
  {
   "cell_type": "code",
   "execution_count": 19,
   "id": "cbf64960-89c8-4670-9368-857d67b4797b",
   "metadata": {},
   "outputs": [],
   "source": [
    "table = {'jugador': ['navas', 'mbappe', 'neymar', 'messi'], \n",
    " 'altura': [185.1, 178.2, 180.3, 163.1], \n",
    " 'goles': [0, 25, 15, 12]\n",
    "}"
   ]
  },
  {
   "cell_type": "code",
   "execution_count": 10,
   "id": "711609bb-7fd3-430f-94cc-296ba2e882e7",
   "metadata": {},
   "outputs": [
    {
     "data": {
      "text/html": [
       "<div>\n",
       "<style scoped>\n",
       "    .dataframe tbody tr th:only-of-type {\n",
       "        vertical-align: middle;\n",
       "    }\n",
       "\n",
       "    .dataframe tbody tr th {\n",
       "        vertical-align: top;\n",
       "    }\n",
       "\n",
       "    .dataframe thead th {\n",
       "        text-align: right;\n",
       "    }\n",
       "</style>\n",
       "<table border=\"1\" class=\"dataframe\">\n",
       "  <thead>\n",
       "    <tr style=\"text-align: right;\">\n",
       "      <th></th>\n",
       "      <th>Jugador</th>\n",
       "      <th>Altura</th>\n",
       "      <th>Goles</th>\n",
       "    </tr>\n",
       "  </thead>\n",
       "  <tbody>\n",
       "    <tr>\n",
       "      <th>1</th>\n",
       "      <td>Navas</td>\n",
       "      <td>183.0</td>\n",
       "      <td>2</td>\n",
       "    </tr>\n",
       "    <tr>\n",
       "      <th>7</th>\n",
       "      <td>Mbappe</td>\n",
       "      <td>170.0</td>\n",
       "      <td>200</td>\n",
       "    </tr>\n",
       "    <tr>\n",
       "      <th>10</th>\n",
       "      <td>Neymar</td>\n",
       "      <td>170.0</td>\n",
       "      <td>200</td>\n",
       "    </tr>\n",
       "    <tr>\n",
       "      <th>30</th>\n",
       "      <td>Messi</td>\n",
       "      <td>165.0</td>\n",
       "      <td>200</td>\n",
       "    </tr>\n",
       "  </tbody>\n",
       "</table>\n",
       "</div>"
      ],
      "text/plain": [
       "   Jugador  Altura  Goles\n",
       "1    Navas   183.0      2\n",
       "7   Mbappe   170.0    200\n",
       "10  Neymar   170.0    200\n",
       "30   Messi   165.0    200"
      ]
     },
     "execution_count": 10,
     "metadata": {},
     "output_type": "execute_result"
    }
   ],
   "source": [
    "pd.DataFrame(dict,index=[1,7,10,30])"
   ]
  },
  {
   "cell_type": "code",
   "execution_count": 20,
   "id": "3ddf1b41-e676-417d-8a82-9fd0a79b741e",
   "metadata": {},
   "outputs": [
    {
     "data": {
      "text/html": [
       "<div>\n",
       "<style scoped>\n",
       "    .dataframe tbody tr th:only-of-type {\n",
       "        vertical-align: middle;\n",
       "    }\n",
       "\n",
       "    .dataframe tbody tr th {\n",
       "        vertical-align: top;\n",
       "    }\n",
       "\n",
       "    .dataframe thead th {\n",
       "        text-align: right;\n",
       "    }\n",
       "</style>\n",
       "<table border=\"1\" class=\"dataframe\">\n",
       "  <thead>\n",
       "    <tr style=\"text-align: right;\">\n",
       "      <th></th>\n",
       "      <th>jugador</th>\n",
       "      <th>altura</th>\n",
       "      <th>goles</th>\n",
       "    </tr>\n",
       "  </thead>\n",
       "  <tbody>\n",
       "    <tr>\n",
       "      <th>1</th>\n",
       "      <td>navas</td>\n",
       "      <td>185.1</td>\n",
       "      <td>0</td>\n",
       "    </tr>\n",
       "    <tr>\n",
       "      <th>7</th>\n",
       "      <td>mbappe</td>\n",
       "      <td>178.2</td>\n",
       "      <td>25</td>\n",
       "    </tr>\n",
       "    <tr>\n",
       "      <th>10</th>\n",
       "      <td>neymar</td>\n",
       "      <td>180.3</td>\n",
       "      <td>15</td>\n",
       "    </tr>\n",
       "    <tr>\n",
       "      <th>30</th>\n",
       "      <td>messi</td>\n",
       "      <td>163.1</td>\n",
       "      <td>12</td>\n",
       "    </tr>\n",
       "  </tbody>\n",
       "</table>\n",
       "</div>"
      ],
      "text/plain": [
       "   jugador  altura  goles\n",
       "1    navas   185.1      0\n",
       "7   mbappe   178.2     25\n",
       "10  neymar   180.3     15\n",
       "30   messi   163.1     12"
      ]
     },
     "execution_count": 20,
     "metadata": {},
     "output_type": "execute_result"
    }
   ],
   "source": [
    "pd.DataFrame(table,index=[1,7,10,30])"
   ]
  },
  {
   "cell_type": "code",
   "execution_count": 26,
   "id": "ade77ea9-faa4-421b-abe7-47bddb8b1884",
   "metadata": {},
   "outputs": [],
   "source": [
    "data = pd.DataFrame(table, index=[1,7,10,30])"
   ]
  },
  {
   "cell_type": "code",
   "execution_count": 27,
   "id": "0cb4a507-7d46-4f72-b2ba-1bca12c74816",
   "metadata": {},
   "outputs": [
    {
     "data": {
      "text/plain": [
       "Index(['jugador', 'altura', 'goles'], dtype='object')"
      ]
     },
     "execution_count": 27,
     "metadata": {},
     "output_type": "execute_result"
    }
   ],
   "source": [
    "data.columns"
   ]
  },
  {
   "cell_type": "code",
   "execution_count": 28,
   "id": "675052d7-f723-4232-a50b-49ec7074944b",
   "metadata": {},
   "outputs": [
    {
     "data": {
      "text/plain": [
       "Int64Index([1, 7, 10, 30], dtype='int64')"
      ]
     },
     "execution_count": 28,
     "metadata": {},
     "output_type": "execute_result"
    }
   ],
   "source": [
    "data.index"
   ]
  },
  {
   "cell_type": "markdown",
   "id": "dd0dc9f6-0ce9-4051-9358-05e40e3f44e8",
   "metadata": {},
   "source": [
    "## PRACTICA\n",
    "---\n",
    "\n",
    "```\n",
    "'Jugador':['Luis SuÃ¡rez','Jorge Molina', 'Antonio Puertas', 'GermÃ¡n SÃ¡nchez', 'Luis Milla', 'LuÃ­s Manuel Arantes Maximiano']\n",
    "\n",
    "'PosiciÃ³n':['Delantero', 'Delantero', 'Centrocampista', 'Defensa', 'Centrocampista', 'Portero']\n",
    "\n",
    "'NÃºmero':[9, 23, 10, 6, 5, 1]\n",
    "\n",
    "'Altura':[185.0, 187.0, 185.0, 187.0, 175.0, 190.0]\n",
    "\n",
    "'Goles':[7, 7, 5, 2, 2, 0]\n",
    "´´´\n",
    "\n",
    "---"
   ]
  }
 ],
 "metadata": {
  "kernelspec": {
   "display_name": "Python 3 (ipykernel)",
   "language": "python",
   "name": "python3"
  },
  "language_info": {
   "codemirror_mode": {
    "name": "ipython",
    "version": 3
   },
   "file_extension": ".py",
   "mimetype": "text/x-python",
   "name": "python",
   "nbconvert_exporter": "python",
   "pygments_lexer": "ipython3",
   "version": "3.9.12"
  }
 },
 "nbformat": 4,
 "nbformat_minor": 5
}
