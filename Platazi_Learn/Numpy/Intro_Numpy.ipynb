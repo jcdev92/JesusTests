{
 "cells": [
  {
   "cell_type": "code",
   "execution_count": 5,
   "id": "c38a9bed",
   "metadata": {},
   "outputs": [],
   "source": [
    "import numpy as np\n",
    "import pandas as pd"
   ]
  },
  {
   "cell_type": "code",
   "execution_count": 6,
   "id": "adae61f3",
   "metadata": {},
   "outputs": [],
   "source": [
    "lista = [1, 2 , 3, 4, 5, 6, 7, 8, 9]"
   ]
  },
  {
   "cell_type": "markdown",
   "id": "1803197a",
   "metadata": {},
   "source": [
    "### ponemos la lista creada dentro de un numpy array y la guardamos en una variabl"
   ]
  },
  {
   "cell_type": "code",
   "execution_count": 7,
   "id": "10ac744d",
   "metadata": {},
   "outputs": [
    {
     "name": "stdout",
     "output_type": "stream",
     "text": [
      "[1 2 3 4 5 6 7 8 9]\n"
     ]
    }
   ],
   "source": [
    "arr = np.array(lista)\n",
    "print(arr)"
   ]
  },
  {
   "cell_type": "markdown",
   "id": "d1fdf569",
   "metadata": {},
   "source": [
    "### Chequeamos que la lista sea de tipo numpy array"
   ]
  },
  {
   "cell_type": "code",
   "execution_count": 8,
   "id": "f0f4dd66",
   "metadata": {},
   "outputs": [
    {
     "data": {
      "text/plain": [
       "numpy.ndarray"
      ]
     },
     "execution_count": 8,
     "metadata": {},
     "output_type": "execute_result"
    }
   ],
   "source": [
    "type(arr)"
   ]
  },
  {
   "cell_type": "markdown",
   "id": "26cb8fd6",
   "metadata": {},
   "source": [
    "### generamos una matriz"
   ]
  },
  {
   "cell_type": "code",
   "execution_count": 11,
   "id": "96b481a9",
   "metadata": {},
   "outputs": [
    {
     "name": "stdout",
     "output_type": "stream",
     "text": [
      "[[1 2 3]\n",
      " [4 5 6]\n",
      " [7 8 9]]\n"
     ]
    }
   ],
   "source": [
    "matriz = [[1,2,3],[4,5,6],[7,8,9]]\n",
    "matriz= np.array(matriz)\n",
    "print(matriz)"
   ]
  },
  {
   "cell_type": "code",
   "execution_count": 13,
   "id": "a02b7c1d",
   "metadata": {},
   "outputs": [
    {
     "data": {
      "text/plain": [
       "array([1, 2, 3, 4, 5, 6, 7, 8, 9])"
      ]
     },
     "execution_count": 13,
     "metadata": {},
     "output_type": "execute_result"
    }
   ],
   "source": [
    "arr"
   ]
  },
  {
   "cell_type": "code",
   "execution_count": 16,
   "id": "ac7bfc02",
   "metadata": {},
   "outputs": [
    {
     "data": {
      "text/plain": [
       "7"
      ]
     },
     "execution_count": 16,
     "metadata": {},
     "output_type": "execute_result"
    }
   ],
   "source": [
    "arr[0] + arr[5]"
   ]
  },
  {
   "cell_type": "code",
   "execution_count": 18,
   "id": "20434216",
   "metadata": {},
   "outputs": [
    {
     "data": {
      "text/plain": [
       "array([[1, 2, 3],\n",
       "       [4, 5, 6],\n",
       "       [7, 8, 9]])"
      ]
     },
     "execution_count": 18,
     "metadata": {},
     "output_type": "execute_result"
    }
   ],
   "source": [
    "matriz"
   ]
  },
  {
   "cell_type": "markdown",
   "id": "359af3da",
   "metadata": {},
   "source": [
    "### URGANDO EN LA MATRIZ"
   ]
  },
  {
   "cell_type": "code",
   "execution_count": 23,
   "id": "cbc62d0d",
   "metadata": {},
   "outputs": [
    {
     "data": {
      "text/plain": [
       "3"
      ]
     },
     "execution_count": 23,
     "metadata": {},
     "output_type": "execute_result"
    }
   ],
   "source": [
    "matriz[0, 2] #BUSCANDO POR INDICE EL VALOR ESPECIFICO DE ESE INDICE. [FILA, COLUMNA]"
   ]
  },
  {
   "cell_type": "code",
   "execution_count": 26,
   "id": "ee654159",
   "metadata": {},
   "outputs": [
    {
     "data": {
      "text/plain": [
       "array([[4, 5, 6],\n",
       "       [7, 8, 9]])"
      ]
     },
     "execution_count": 26,
     "metadata": {},
     "output_type": "execute_result"
    }
   ],
   "source": [
    "matriz[1:] # BUSCA POR FILAS, SE INDICA LA FILA DE PARTIDA [FILA: ...]"
   ]
  },
  {
   "cell_type": "code",
   "execution_count": 29,
   "id": "43b4146f",
   "metadata": {},
   "outputs": [
    {
     "data": {
      "text/plain": [
       "array([[4, 5],\n",
       "       [7, 8]])"
      ]
     },
     "execution_count": 29,
     "metadata": {},
     "output_type": "execute_result"
    }
   ],
   "source": [
    "matriz[1:, 0:2] # BUSCA A PARTIR PRIMERO DE FILAS LUEGO \"COMA\" BUSCA EN COLUMNAS [FILA: ..., COLUMNA: ...]"
   ]
  },
  {
   "cell_type": "markdown",
   "id": "7157c1ab",
   "metadata": {},
   "source": [
    "###  MATRIZ 3D"
   ]
  },
  {
   "cell_type": "code",
   "execution_count": 32,
   "id": "3b25059c",
   "metadata": {},
   "outputs": [
    {
     "data": {
      "text/plain": [
       "array([[ 1,  2,  3],\n",
       "       [ 4,  5,  6],\n",
       "       [ 7,  8,  9],\n",
       "       [10, 11, 12],\n",
       "       [13, 14, 15],\n",
       "       [16, 17, 18]])"
      ]
     },
     "execution_count": 32,
     "metadata": {},
     "output_type": "execute_result"
    }
   ],
   "source": [
    "matriz_3D = [[1,2,3],[4,5,6],[7,8,9],[10,11,12],[13,14,15],[16,17,18]]\n",
    "matriz_3D = np.array(matriz_3D)\n",
    "matriz_3D"
   ]
  },
  {
   "cell_type": "markdown",
   "id": "1e0b46be",
   "metadata": {},
   "source": [
    "#### The Middle"
   ]
  },
  {
   "cell_type": "code",
   "execution_count": 50,
   "id": "060f92d2",
   "metadata": {
    "scrolled": true
   },
   "outputs": [
    {
     "data": {
      "text/plain": [
       "array([[ 8],\n",
       "       [11]])"
      ]
     },
     "execution_count": 50,
     "metadata": {},
     "output_type": "execute_result"
    }
   ],
   "source": [
    "matriz_3D[2:4,1:2]"
   ]
  }
 ],
 "metadata": {
  "kernelspec": {
   "display_name": "Python 3 (ipykernel)",
   "language": "python",
   "name": "python3"
  },
  "language_info": {
   "codemirror_mode": {
    "name": "ipython",
    "version": 3
   },
   "file_extension": ".py",
   "mimetype": "text/x-python",
   "name": "python",
   "nbconvert_exporter": "python",
   "pygments_lexer": "ipython3",
   "version": "3.9.12"
  }
 },
 "nbformat": 4,
 "nbformat_minor": 5
}
