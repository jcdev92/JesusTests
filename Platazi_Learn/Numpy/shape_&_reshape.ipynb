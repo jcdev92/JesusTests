{
 "cells": [
  {
   "cell_type": "markdown",
   "id": "34e1cd32-d55a-4373-912f-b0473e612c0f",
   "metadata": {},
   "source": [
    "## shape and re-shape"
   ]
  },
  {
   "cell_type": "code",
   "execution_count": 1,
   "id": "06e05d33-2467-4649-bbdf-de1b5ede8c36",
   "metadata": {},
   "outputs": [],
   "source": [
    "import numpy as np"
   ]
  },
  {
   "cell_type": "code",
   "execution_count": 2,
   "id": "4f248e85-2e18-4f88-bc27-c7bb4764741e",
   "metadata": {},
   "outputs": [
    {
     "data": {
      "text/plain": [
       "(3, 2)"
      ]
     },
     "execution_count": 2,
     "metadata": {},
     "output_type": "execute_result"
    }
   ],
   "source": [
    "arr = np.random.randint(1,10,(3,2))\n",
    "arr.shape         ## \"Shape\" show us the order of the structure, dimentions in quantity or columns and rows in the array."
   ]
  },
  {
   "cell_type": "code",
   "execution_count": 3,
   "id": "770f2e3f-d8c3-48f6-a351-aadada76c2a6",
   "metadata": {},
   "outputs": [
    {
     "data": {
      "text/plain": [
       "array([[2, 7],\n",
       "       [8, 3],\n",
       "       [5, 7]])"
      ]
     },
     "execution_count": 3,
     "metadata": {},
     "output_type": "execute_result"
    }
   ],
   "source": [
    "arr"
   ]
  },
  {
   "cell_type": "code",
   "execution_count": 4,
   "id": "366e0e6d-6f6e-4b2c-9bf4-0744d7fe9da4",
   "metadata": {},
   "outputs": [
    {
     "data": {
      "text/plain": [
       "array([[2, 7, 8, 3, 5, 7]])"
      ]
     },
     "execution_count": 4,
     "metadata": {},
     "output_type": "execute_result"
    }
   ],
   "source": [
    "arr.reshape(1,6)  ## we can change the order of the array structure."
   ]
  },
  {
   "cell_type": "code",
   "execution_count": 5,
   "id": "e40c504c-2a70-4a45-a204-b5c840ab00c8",
   "metadata": {},
   "outputs": [
    {
     "data": {
      "text/plain": [
       "array([[2, 7, 8],\n",
       "       [3, 5, 7]])"
      ]
     },
     "execution_count": 5,
     "metadata": {},
     "output_type": "execute_result"
    }
   ],
   "source": [
    "np.reshape(arr,(2,3))    ## Another way to reshape"
   ]
  },
  {
   "cell_type": "markdown",
   "id": "8e3abc4c-60c9-4a06-95c5-4f18b1be44fa",
   "metadata": {},
   "source": [
    "#### reshape in lenguages C, Fortrand and Computer System"
   ]
  },
  {
   "cell_type": "code",
   "execution_count": 6,
   "id": "fba2f910-3e39-4861-a5dc-10b3090d78c9",
   "metadata": {},
   "outputs": [
    {
     "data": {
      "text/plain": [
       "array([[2, 7, 8],\n",
       "       [3, 5, 7]])"
      ]
     },
     "execution_count": 6,
     "metadata": {},
     "output_type": "execute_result"
    }
   ],
   "source": [
    "np.reshape(arr,(2,3),'C') ## in lenguage C the reshaping order follow the rows"
   ]
  },
  {
   "cell_type": "code",
   "execution_count": 7,
   "id": "aa52265a-6341-4a5d-a035-6a5e2be4e384",
   "metadata": {},
   "outputs": [
    {
     "data": {
      "text/plain": [
       "array([[2, 5, 3],\n",
       "       [8, 7, 7]])"
      ]
     },
     "execution_count": 7,
     "metadata": {},
     "output_type": "execute_result"
    }
   ],
   "source": [
    "np.reshape(arr,(2,3),'F') ## in lenguage Fortrand the reshaping order follow the columns"
   ]
  },
  {
   "cell_type": "code",
   "execution_count": 8,
   "id": "0638b938-c627-49d8-bc50-044aa221c4d2",
   "metadata": {},
   "outputs": [
    {
     "data": {
      "text/plain": [
       "array([[2, 7, 8],\n",
       "       [3, 5, 7]])"
      ]
     },
     "execution_count": 8,
     "metadata": {},
     "output_type": "execute_result"
    }
   ],
   "source": [
    "np.reshape(arr,(2,3),'A') ## in the own system the reshaping order follow the rows"
   ]
  },
  {
   "cell_type": "markdown",
   "id": "e1123d0e-8ad8-41b9-b9e3-42e7b3da1b04",
   "metadata": {},
   "source": [
    "## Challenge"
   ]
  },
  {
   "cell_type": "code",
   "execution_count": 9,
   "id": "39742f5a-a6fe-4f2f-ba5f-b7e073ecbfaa",
   "metadata": {},
   "outputs": [
    {
     "data": {
      "text/plain": [
       "array([[4, 1, 6, 5],\n",
       "       [6, 7, 8, 1],\n",
       "       [3, 3, 3, 1],\n",
       "       [7, 9, 3, 2]])"
      ]
     },
     "execution_count": 9,
     "metadata": {},
     "output_type": "execute_result"
    }
   ],
   "source": [
    "arr = np.random.randint(1,10,(4,4))\n",
    "arr"
   ]
  },
  {
   "cell_type": "code",
   "execution_count": 10,
   "id": "6a2a3388-5384-4779-888f-0aa7908abbba",
   "metadata": {},
   "outputs": [
    {
     "data": {
      "text/plain": [
       "array([[4, 1, 6, 5, 6, 7, 8, 1, 3, 3, 3, 1, 7, 9, 3, 2]])"
      ]
     },
     "execution_count": 10,
     "metadata": {},
     "output_type": "execute_result"
    }
   ],
   "source": [
    "arr.reshape(1,16)"
   ]
  },
  {
   "cell_type": "code",
   "execution_count": 11,
   "id": "17084125-3602-4cec-8c4c-6b871f3f756c",
   "metadata": {
    "tags": []
   },
   "outputs": [
    {
     "ename": "ValueError",
     "evalue": "cannot reshape array of size 16 into shape (1,15)",
     "output_type": "error",
     "traceback": [
      "\u001b[0;31m---------------------------------------------------------------------------\u001b[0m",
      "\u001b[0;31mValueError\u001b[0m                                Traceback (most recent call last)",
      "\u001b[1;32m/home/gordo/jmcg_dev/Studies/Data_Science/Numpy/shape_&_reshape.ipynb Cell 14'\u001b[0m in \u001b[0;36m<cell line: 1>\u001b[0;34m()\u001b[0m\n\u001b[0;32m----> <a href='vscode-notebook-cell://wsl%2Bubuntu/home/gordo/jmcg_dev/Studies/Data_Science/Numpy/shape_%26_reshape.ipynb#ch0000013vscode-remote?line=0'>1</a>\u001b[0m arr\u001b[39m.\u001b[39;49mreshape(\u001b[39m1\u001b[39;49m,\u001b[39m15\u001b[39;49m)\n",
      "\u001b[0;31mValueError\u001b[0m: cannot reshape array of size 16 into shape (1,15)"
     ]
    }
   ],
   "source": [
    "arr.reshape(1,15)"
   ]
  },
  {
   "cell_type": "code",
   "execution_count": null,
   "id": "0b2e3c54-33c0-41d9-a7e1-b17ac41145a0",
   "metadata": {},
   "outputs": [
    {
     "data": {
      "text/plain": [
       "array([[3, 5, 8, 6, 9, 9, 8, 6],\n",
       "       [8, 7, 6, 5, 4, 6, 3, 7]])"
      ]
     },
     "execution_count": 36,
     "metadata": {},
     "output_type": "execute_result"
    }
   ],
   "source": [
    "arr.reshape(2,8)"
   ]
  },
  {
   "cell_type": "code",
   "execution_count": null,
   "id": "cccfb939-65fb-476c-8963-44c3bdb1d72e",
   "metadata": {},
   "outputs": [
    {
     "data": {
      "text/plain": [
       "array([[3, 5],\n",
       "       [8, 6],\n",
       "       [9, 9],\n",
       "       [8, 6],\n",
       "       [8, 7],\n",
       "       [6, 5],\n",
       "       [4, 6],\n",
       "       [3, 7]])"
      ]
     },
     "execution_count": 37,
     "metadata": {},
     "output_type": "execute_result"
    }
   ],
   "source": [
    "arr.reshape(8,2)"
   ]
  }
 ],
 "metadata": {
  "interpreter": {
   "hash": "fda5a78e1d2cb5079f554e09a7735630958dbb249472f5b96429f07aa47285e6"
  },
  "kernelspec": {
   "display_name": "Python 3.10.4 ('betaProjects')",
   "language": "python",
   "name": "python3"
  },
  "language_info": {
   "codemirror_mode": {
    "name": "ipython",
    "version": 3
   },
   "file_extension": ".py",
   "mimetype": "text/x-python",
   "name": "python",
   "nbconvert_exporter": "python",
   "pygments_lexer": "ipython3",
   "version": "3.10.4"
  }
 },
 "nbformat": 4,
 "nbformat_minor": 5
}
