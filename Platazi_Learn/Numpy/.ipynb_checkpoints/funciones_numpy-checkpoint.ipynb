{
 "cells": [
  {
   "cell_type": "markdown",
   "id": "64678f54-dc0c-4102-ac1c-a9345b28d722",
   "metadata": {
    "tags": []
   },
   "source": [
    "# Funciones Utiles de Numpy"
   ]
  },
  {
   "cell_type": "code",
   "execution_count": 2,
   "id": "67edd6ac-a11a-4b8d-af07-4d71fddf14d5",
   "metadata": {},
   "outputs": [],
   "source": [
    "import numpy as np"
   ]
  },
  {
   "cell_type": "code",
   "execution_count": 5,
   "id": "136961d9-ffe5-4607-ad1f-d54de4934c58",
   "metadata": {},
   "outputs": [
    {
     "data": {
      "text/plain": [
       "array([15,  6,  4,  7, 10, 17, 19,  9, 13,  2])"
      ]
     },
     "execution_count": 5,
     "metadata": {},
     "output_type": "execute_result"
    }
   ],
   "source": [
    "vector = np.random.randint(1,20,10)\n",
    "vector"
   ]
  },
  {
   "cell_type": "code",
   "execution_count": 6,
   "id": "c7a1eab7-6a27-4033-937f-efd3436af652",
   "metadata": {},
   "outputs": [
    {
     "data": {
      "text/plain": [
       "array([[15,  6,  4,  7, 10],\n",
       "       [17, 19,  9, 13,  2]])"
      ]
     },
     "execution_count": 6,
     "metadata": {},
     "output_type": "execute_result"
    }
   ],
   "source": [
    "matrix = vector.reshape(2,5)\n",
    "matrix"
   ]
  },
  {
   "cell_type": "markdown",
   "id": "17c0b0cc-669a-4553-b8cf-477befdceeda",
   "metadata": {},
   "source": [
    "#### max & min"
   ]
  },
  {
   "cell_type": "code",
   "execution_count": 7,
   "id": "b334f4ce-2667-4d6b-863e-bb95b7ac7617",
   "metadata": {},
   "outputs": [
    {
     "data": {
      "text/plain": [
       "19"
      ]
     },
     "execution_count": 7,
     "metadata": {},
     "output_type": "execute_result"
    }
   ],
   "source": [
    "vector.max() # max number in the vector array"
   ]
  },
  {
   "cell_type": "code",
   "execution_count": 8,
   "id": "a6840104-a38c-4729-a334-fde8a50ba9f7",
   "metadata": {},
   "outputs": [
    {
     "data": {
      "text/plain": [
       "6"
      ]
     },
     "execution_count": 8,
     "metadata": {},
     "output_type": "execute_result"
    }
   ],
   "source": [
    "vector.argmax() ## position of the maximun value in the vector"
   ]
  },
  {
   "cell_type": "code",
   "execution_count": 9,
   "id": "6d037ef8-f684-49d0-9c6b-164049c4e6db",
   "metadata": {},
   "outputs": [
    {
     "data": {
      "text/plain": [
       "19"
      ]
     },
     "execution_count": 9,
     "metadata": {},
     "output_type": "execute_result"
    }
   ],
   "source": [
    "matrix.max() # maximum value in the matrix"
   ]
  },
  {
   "cell_type": "code",
   "execution_count": 10,
   "id": "82dcf93c-ed24-4648-a0af-403d74526ff1",
   "metadata": {},
   "outputs": [
    {
     "data": {
      "text/plain": [
       "array([17, 19,  9, 13, 10])"
      ]
     },
     "execution_count": 10,
     "metadata": {},
     "output_type": "execute_result"
    }
   ],
   "source": [
    "matrix.max(0) # all the maximum values by columns in the matrix"
   ]
  },
  {
   "cell_type": "code",
   "execution_count": 11,
   "id": "15057a45-c474-4f85-966d-4ebc75d7f46a",
   "metadata": {},
   "outputs": [
    {
     "data": {
      "text/plain": [
       "array([15, 19])"
      ]
     },
     "execution_count": 11,
     "metadata": {},
     "output_type": "execute_result"
    }
   ],
   "source": [
    "matrix.max(1) # all the maximum values by rows in the matrix"
   ]
  },
  {
   "cell_type": "code",
   "execution_count": 12,
   "id": "5796cec5-e268-4089-be2e-f54967684b83",
   "metadata": {},
   "outputs": [
    {
     "data": {
      "text/plain": [
       "array([1, 1, 1, 1, 0])"
      ]
     },
     "execution_count": 12,
     "metadata": {},
     "output_type": "execute_result"
    }
   ],
   "source": [
    "matrix.argmax(0) # position of each maximun value by column of the matrix"
   ]
  },
  {
   "cell_type": "code",
   "execution_count": 13,
   "id": "a191af7b-7b95-4ea2-a6a4-0c220af6ade7",
   "metadata": {},
   "outputs": [
    {
     "data": {
      "text/plain": [
       "array([0, 1])"
      ]
     },
     "execution_count": 13,
     "metadata": {},
     "output_type": "execute_result"
    }
   ],
   "source": [
    "matrix.argmax(1) # postition of each maximun value by row of the matrix"
   ]
  },
  {
   "cell_type": "code",
   "execution_count": 14,
   "id": "641ab4ac-dab7-4823-adb3-c0d60d2ded94",
   "metadata": {},
   "outputs": [
    {
     "data": {
      "text/plain": [
       "2"
      ]
     },
     "execution_count": 14,
     "metadata": {},
     "output_type": "execute_result"
    }
   ],
   "source": [
    "vector.min() # minimun value of the vector"
   ]
  },
  {
   "cell_type": "code",
   "execution_count": 15,
   "id": "72235bc6-df2a-4c34-a94f-e3aa54611ea8",
   "metadata": {},
   "outputs": [
    {
     "data": {
      "text/plain": [
       "9"
      ]
     },
     "execution_count": 15,
     "metadata": {},
     "output_type": "execute_result"
    }
   ],
   "source": [
    "vector.argmin() # position of the mininum value in the vector"
   ]
  },
  {
   "cell_type": "code",
   "execution_count": 16,
   "id": "a2268875-911f-4e8a-a939-98bfca2a2088",
   "metadata": {},
   "outputs": [
    {
     "data": {
      "text/plain": [
       "2"
      ]
     },
     "execution_count": 16,
     "metadata": {},
     "output_type": "execute_result"
    }
   ],
   "source": [
    "matrix.min() # Minimun value of the matrix"
   ]
  },
  {
   "cell_type": "code",
   "execution_count": 17,
   "id": "b6d0649b-b5c3-49a7-89f1-88d0e196a861",
   "metadata": {},
   "outputs": [
    {
     "name": "stdout",
     "output_type": "stream",
     "text": [
      "[[15  6  4  7 10]\n",
      " [17 19  9 13  2]]\n"
     ]
    }
   ],
   "source": [
    "print(matrix)"
   ]
  },
  {
   "cell_type": "code",
   "execution_count": 18,
   "id": "d64efa00-8f99-4aba-97a9-569d71b5ddca",
   "metadata": {},
   "outputs": [
    {
     "data": {
      "text/plain": [
       "array([15,  6,  4,  7,  2])"
      ]
     },
     "execution_count": 18,
     "metadata": {},
     "output_type": "execute_result"
    }
   ],
   "source": [
    "matrix.min(0) ## each minimun value by column dimention"
   ]
  },
  {
   "cell_type": "code",
   "execution_count": 19,
   "id": "228846e0-f075-4d14-b879-945522c06089",
   "metadata": {},
   "outputs": [
    {
     "data": {
      "text/plain": [
       "array([4, 2])"
      ]
     },
     "execution_count": 19,
     "metadata": {},
     "output_type": "execute_result"
    }
   ],
   "source": [
    "matrix.min(1) ## each minimun value by row dimention"
   ]
  },
  {
   "cell_type": "code",
   "execution_count": 20,
   "id": "c6bbd7fd-07f5-40b1-9677-64b2ca5a5a9b",
   "metadata": {},
   "outputs": [
    {
     "data": {
      "text/plain": [
       "array([0, 0, 0, 0, 1])"
      ]
     },
     "execution_count": 20,
     "metadata": {},
     "output_type": "execute_result"
    }
   ],
   "source": [
    "matrix.argmin(0) ## each minimun value position in the matrix, Columns dimention."
   ]
  },
  {
   "cell_type": "code",
   "execution_count": 21,
   "id": "33f8974b-3dc3-4de4-82c0-090d9f5a2ff8",
   "metadata": {},
   "outputs": [
    {
     "data": {
      "text/plain": [
       "array([2, 4])"
      ]
     },
     "execution_count": 21,
     "metadata": {},
     "output_type": "execute_result"
    }
   ],
   "source": [
    "matrix.argmin(1)  ## each minimun value position in the matirx, Rows dimention."
   ]
  },
  {
   "cell_type": "code",
   "execution_count": 22,
   "id": "75898db9-6998-448d-aa17-850f5755dfa5",
   "metadata": {},
   "outputs": [
    {
     "data": {
      "text/plain": [
       "17"
      ]
     },
     "execution_count": 22,
     "metadata": {},
     "output_type": "execute_result"
    }
   ],
   "source": [
    "vector.ptp() # peek to peek - diference beetwen higher peek and lower peek"
   ]
  },
  {
   "cell_type": "code",
   "execution_count": 23,
   "id": "06b82684-68af-4231-98fb-03cc2db05b00",
   "metadata": {},
   "outputs": [
    {
     "data": {
      "text/plain": [
       "17"
      ]
     },
     "execution_count": 23,
     "metadata": {},
     "output_type": "execute_result"
    }
   ],
   "source": [
    "matrix.ptp() # peek o to peek of the matrix"
   ]
  },
  {
   "cell_type": "code",
   "execution_count": 24,
   "id": "ac58ebe0-06b1-4a50-b7cf-3fb9b51d596e",
   "metadata": {},
   "outputs": [
    {
     "data": {
      "text/plain": [
       "array([ 2, 13,  5,  6,  8])"
      ]
     },
     "execution_count": 24,
     "metadata": {},
     "output_type": "execute_result"
    }
   ],
   "source": [
    "matrix.ptp(0) #peek to peek by columns"
   ]
  },
  {
   "cell_type": "code",
   "execution_count": 25,
   "id": "06ac749e-faf9-4188-8c05-984c06fe6620",
   "metadata": {},
   "outputs": [
    {
     "data": {
      "text/plain": [
       "array([11, 17])"
      ]
     },
     "execution_count": 25,
     "metadata": {},
     "output_type": "execute_result"
    }
   ],
   "source": [
    "matrix.ptp(1) #peek to peek by rows"
   ]
  },
  {
   "cell_type": "code",
   "execution_count": 26,
   "id": "a266e865-ffc6-4e58-a627-50b2eb37db69",
   "metadata": {},
   "outputs": [
    {
     "data": {
      "text/plain": [
       "9.5"
      ]
     },
     "execution_count": 26,
     "metadata": {},
     "output_type": "execute_result"
    }
   ],
   "source": [
    "np.percentile(vector, 50) # Percentil 50 of the numpy array, in this case the vector"
   ]
  },
  {
   "cell_type": "code",
   "execution_count": 27,
   "id": "92a252cc-b3c7-448d-a461-e643fad7fd03",
   "metadata": {},
   "outputs": [
    {
     "data": {
      "text/plain": [
       "9.5"
      ]
     },
     "execution_count": 27,
     "metadata": {},
     "output_type": "execute_result"
    }
   ],
   "source": [
    "np.percentile(matrix, 50) # matrix percentile 50"
   ]
  },
  {
   "cell_type": "code",
   "execution_count": 28,
   "id": "1671e00e-7dc6-4a83-98ef-2f22f438de84",
   "metadata": {},
   "outputs": [
    {
     "data": {
      "text/plain": [
       "array([ 2,  4,  6,  7,  9, 10, 13, 15, 17, 19])"
      ]
     },
     "execution_count": 28,
     "metadata": {},
     "output_type": "execute_result"
    }
   ],
   "source": [
    "vector.sort() #sort the values of the array\n",
    "vector"
   ]
  },
  {
   "cell_type": "code",
   "execution_count": 29,
   "id": "25081500-6343-4d50-a64d-3c1e09eef8bd",
   "metadata": {},
   "outputs": [
    {
     "data": {
      "text/plain": [
       "9.5"
      ]
     },
     "execution_count": 29,
     "metadata": {},
     "output_type": "execute_result"
    }
   ],
   "source": [
    "np.median(vector) # Median - Mediana from the array (es la mediana, valor que se encuentra aprox a la mitad del array)"
   ]
  },
  {
   "cell_type": "code",
   "execution_count": 30,
   "id": "6a01fd9b-c110-4283-90b8-23c907630035",
   "metadata": {},
   "outputs": [
    {
     "data": {
      "text/plain": [
       "9.5"
      ]
     },
     "execution_count": 30,
     "metadata": {},
     "output_type": "execute_result"
    }
   ],
   "source": [
    "np.median(matrix) # Median of all matrix"
   ]
  },
  {
   "cell_type": "code",
   "execution_count": 31,
   "id": "eba7703f-69d2-492d-a21e-a7ee7012d4b7",
   "metadata": {},
   "outputs": [
    {
     "data": {
      "text/plain": [
       "array([ 6. ,  8.5, 10.5, 12. , 14. ])"
      ]
     },
     "execution_count": 31,
     "metadata": {},
     "output_type": "execute_result"
    }
   ],
   "source": [
    "np.median(matrix, 0) # Median (mediana) of the matrix columns values"
   ]
  },
  {
   "cell_type": "code",
   "execution_count": 32,
   "id": "0ee236ec-1880-45fc-8052-4993c70fa02c",
   "metadata": {},
   "outputs": [
    {
     "data": {
      "text/plain": [
       "array([ 6., 15.])"
      ]
     },
     "execution_count": 32,
     "metadata": {},
     "output_type": "execute_result"
    }
   ],
   "source": [
    "np.median(matrix, 1) # Median of the matrix rows values"
   ]
  },
  {
   "cell_type": "code",
   "execution_count": 33,
   "id": "9d6f60ee-9669-4988-8e61-a72f8c45dfb2",
   "metadata": {},
   "outputs": [
    {
     "data": {
      "text/plain": [
       "5.3814496188294845"
      ]
     },
     "execution_count": 33,
     "metadata": {},
     "output_type": "execute_result"
    }
   ],
   "source": [
    "np.std(vector)  # standar desviation"
   ]
  },
  {
   "cell_type": "code",
   "execution_count": 34,
   "id": "76f80e4e-dd8e-4ce4-8776-dd0ba6bc6a2c",
   "metadata": {},
   "outputs": [
    {
     "data": {
      "text/plain": [
       "28.96"
      ]
     },
     "execution_count": 34,
     "metadata": {},
     "output_type": "execute_result"
    }
   ],
   "source": [
    "np.var(vector) # varianza function"
   ]
  },
  {
   "cell_type": "code",
   "execution_count": 35,
   "id": "5bfe5246-0752-483d-a4af-77a08d4a6b2b",
   "metadata": {},
   "outputs": [
    {
     "data": {
      "text/plain": [
       "28.960000000000004"
      ]
     },
     "execution_count": 35,
     "metadata": {},
     "output_type": "execute_result"
    }
   ],
   "source": [
    "np.std(vector)**2 # varianza == (std**2) desv standard to the square "
   ]
  },
  {
   "cell_type": "code",
   "execution_count": 36,
   "id": "6adf9ac3-c685-4414-9459-0e663dbc7bc6",
   "metadata": {},
   "outputs": [
    {
     "data": {
      "text/plain": [
       "10.2"
      ]
     },
     "execution_count": 36,
     "metadata": {},
     "output_type": "execute_result"
    }
   ],
   "source": [
    "np.mean(vector)    # media (suma de los valores del array dividido entre el numero de valores o la cantidad de ellos en el array / we get the media of the array, suming the array values and divide it by the count of them)"
   ]
  },
  {
   "cell_type": "code",
   "execution_count": 37,
   "id": "c3e0dfa2-1263-43a5-8637-cb60a1254725",
   "metadata": {},
   "outputs": [],
   "source": [
    "a = np.array([[1,2],[3,4]]) # concatenar/ concatenate two numpy arrays\n",
    "b = np.array([5,6])"
   ]
  },
  {
   "cell_type": "code",
   "execution_count": 38,
   "id": "d6ab0fd9-525c-43aa-9499-64dfac2c4e83",
   "metadata": {},
   "outputs": [],
   "source": [
    "b = np.expand_dims(b, axis=0)"
   ]
  },
  {
   "cell_type": "code",
   "execution_count": 39,
   "id": "808ff306-50a4-4c69-89a7-5dbb570435c1",
   "metadata": {},
   "outputs": [
    {
     "data": {
      "text/plain": [
       "array([[1, 2],\n",
       "       [3, 4],\n",
       "       [5, 6]])"
      ]
     },
     "execution_count": 39,
     "metadata": {},
     "output_type": "execute_result"
    }
   ],
   "source": [
    "np.concatenate((a,b), axis=0)"
   ]
  },
  {
   "cell_type": "code",
   "execution_count": 46,
   "id": "f0dc297f-356d-4d6c-be4e-7e77707c20b1",
   "metadata": {},
   "outputs": [],
   "source": [
    "c = np.reshape(b, (2,1)) # reshape to concatenate a and b arrays."
   ]
  },
  {
   "cell_type": "code",
   "execution_count": 47,
   "id": "23f1bca9-b4e9-4101-a41d-4624b39e91d1",
   "metadata": {},
   "outputs": [
    {
     "data": {
      "text/plain": [
       "array([[1, 2, 5],\n",
       "       [3, 4, 6]])"
      ]
     },
     "execution_count": 47,
     "metadata": {},
     "output_type": "execute_result"
    }
   ],
   "source": [
    "np.concatenate((a,c), axis=1) # concatenating"
   ]
  },
  {
   "cell_type": "markdown",
   "id": "af6be49e-105e-4285-a433-a4f9443d91d0",
   "metadata": {},
   "source": [
    "#### another way to concatenate and reshape at the same time the arrays"
   ]
  },
  {
   "cell_type": "code",
   "execution_count": 41,
   "id": "5d07c367-e416-4417-939a-1ff44ea14380",
   "metadata": {},
   "outputs": [
    {
     "data": {
      "text/plain": [
       "array([[1, 2, 5],\n",
       "       [3, 4, 6]])"
      ]
     },
     "execution_count": 41,
     "metadata": {},
     "output_type": "execute_result"
    }
   ],
   "source": [
    "np.concatenate((a,b.T), axis=1) # con T mayuscula sobre el array b ponemos en transpuesta el orden del array, es decir se inverte el eje. Y hace lo mismo que el reshape de b."
   ]
  },
  {
   "cell_type": "code",
   "execution_count": null,
   "id": "6100ccf9-9ba2-42ee-a3bc-4e4f96c465f8",
   "metadata": {},
   "outputs": [],
   "source": []
  }
 ],
 "metadata": {
  "kernelspec": {
   "display_name": "Python 3 (ipykernel)",
   "language": "python",
   "name": "python3"
  },
  "language_info": {
   "codemirror_mode": {
    "name": "ipython",
    "version": 3
   },
   "file_extension": ".py",
   "mimetype": "text/x-python",
   "name": "python",
   "nbconvert_exporter": "python",
   "pygments_lexer": "ipython3",
   "version": "3.9.12"
  }
 },
 "nbformat": 4,
 "nbformat_minor": 5
}
