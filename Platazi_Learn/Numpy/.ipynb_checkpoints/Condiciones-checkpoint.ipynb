{
 "cells": [
  {
   "cell_type": "code",
   "execution_count": 1,
   "id": "26717b91-8a73-4c28-a3f4-fec0153b8d3c",
   "metadata": {},
   "outputs": [],
   "source": [
    "import numpy as np"
   ]
  },
  {
   "cell_type": "code",
   "execution_count": 2,
   "id": "7360658b-58d8-4301-98f6-4ee6453bafd1",
   "metadata": {},
   "outputs": [
    {
     "data": {
      "text/plain": [
       "array([ 1,  2,  3,  4,  5,  6,  7,  8,  9, 10], dtype=int8)"
      ]
     },
     "execution_count": 2,
     "metadata": {},
     "output_type": "execute_result"
    }
   ],
   "source": [
    "arr = np.linspace(1,10,10, dtype='int8')\n",
    "arr"
   ]
  },
  {
   "cell_type": "code",
   "execution_count": 4,
   "id": "44092a08-4f4d-4b1a-90b4-aa6a20f53d66",
   "metadata": {},
   "outputs": [
    {
     "data": {
      "text/plain": [
       "array([False, False, False, False, False,  True,  True,  True,  True,\n",
       "        True])"
      ]
     },
     "execution_count": 4,
     "metadata": {},
     "output_type": "execute_result"
    }
   ],
   "source": [
    "cond = arr > 5 \n",
    "cond"
   ]
  },
  {
   "cell_type": "code",
   "execution_count": 7,
   "id": "199cffbf-6ba4-45f6-bfb8-1a4e07fe30a7",
   "metadata": {},
   "outputs": [
    {
     "data": {
      "text/plain": [
       "array([ 6,  7,  8,  9, 10], dtype=int8)"
      ]
     },
     "execution_count": 7,
     "metadata": {},
     "output_type": "execute_result"
    }
   ],
   "source": [
    "biggers = arr[arr>5] # Aplying conditions like a filter\n",
    "biggers"
   ]
  },
  {
   "cell_type": "code",
   "execution_count": 8,
   "id": "03046314-329a-4709-afe2-72174dc07c9a",
   "metadata": {},
   "outputs": [
    {
     "data": {
      "text/plain": [
       "array([6, 7, 8], dtype=int8)"
      ]
     },
     "execution_count": 8,
     "metadata": {},
     "output_type": "execute_result"
    }
   ],
   "source": [
    "smallers = biggers[biggers<9]\n",
    "smallers"
   ]
  },
  {
   "cell_type": "code",
   "execution_count": 15,
   "id": "3620cff8-741b-4efe-b6e2-b6ea760b1001",
   "metadata": {},
   "outputs": [
    {
     "data": {
      "text/plain": [
       "array([6, 7, 8], dtype=int8)"
      ]
     },
     "execution_count": 15,
     "metadata": {},
     "output_type": "execute_result"
    }
   ],
   "source": [
    "new_arr = smallers.copy() #using copy\n",
    "new_arr"
   ]
  },
  {
   "cell_type": "code",
   "execution_count": 19,
   "id": "fb80f19e-212b-44d5-b845-98bfd4068980",
   "metadata": {},
   "outputs": [
    {
     "data": {
      "text/plain": [
       "array([12, 14, 16], dtype=int8)"
      ]
     },
     "execution_count": 19,
     "metadata": {},
     "output_type": "execute_result"
    }
   ],
   "source": [
    "moded = new_arr*2\n",
    "moded"
   ]
  },
  {
   "cell_type": "markdown",
   "id": "35a830f6-7f08-400f-baef-f4983271b11f",
   "metadata": {},
   "source": [
    "arr #original"
   ]
  },
  {
   "cell_type": "code",
   "execution_count": 21,
   "id": "85aeda23-b8e9-4c3c-81b9-cad7b1f89056",
   "metadata": {},
   "outputs": [
    {
     "data": {
      "text/plain": [
       "array([[0.68642146, 0.20408415, 0.04021389, 0.73049411],\n",
       "       [0.47885051, 0.6508698 , 0.49681624, 0.36611139],\n",
       "       [0.22692266, 0.99073701, 0.24093993, 0.68761827]])"
      ]
     },
     "execution_count": 21,
     "metadata": {},
     "output_type": "execute_result"
    }
   ],
   "source": [
    "matriz = np.random.rand(3,4)\n",
    "matriz"
   ]
  },
  {
   "cell_type": "code",
   "execution_count": 22,
   "id": "eeeed045-1f88-4311-b70f-0c7533cea30d",
   "metadata": {},
   "outputs": [
    {
     "data": {
      "text/plain": [
       "array([[0.68642146, 0.        , 0.        , 0.73049411],\n",
       "       [0.        , 0.6508698 , 0.        , 0.        ],\n",
       "       [0.        , 0.99073701, 0.        , 0.68761827]])"
      ]
     },
     "execution_count": 22,
     "metadata": {},
     "output_type": "execute_result"
    }
   ],
   "source": [
    "matriz[matriz<0.5] = 0\n",
    "matriz"
   ]
  }
 ],
 "metadata": {
  "kernelspec": {
   "display_name": "Python 3 (ipykernel)",
   "language": "python",
   "name": "python3"
  },
  "language_info": {
   "codemirror_mode": {
    "name": "ipython",
    "version": 3
   },
   "file_extension": ".py",
   "mimetype": "text/x-python",
   "name": "python",
   "nbconvert_exporter": "python",
   "pygments_lexer": "ipython3",
   "version": "3.9.12"
  }
 },
 "nbformat": 4,
 "nbformat_minor": 5
}
