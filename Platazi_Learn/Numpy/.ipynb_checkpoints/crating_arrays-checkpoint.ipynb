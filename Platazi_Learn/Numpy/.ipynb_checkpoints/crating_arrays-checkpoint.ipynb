{
 "cells": [
  {
   "cell_type": "markdown",
   "id": "12c324b7-6337-43cc-b9f7-8a3751ab0244",
   "metadata": {
    "tags": []
   },
   "source": [
    "## creating arrays"
   ]
  },
  {
   "cell_type": "code",
   "execution_count": 3,
   "id": "19a93ef2-0481-44b9-b32f-2ab15468a434",
   "metadata": {},
   "outputs": [],
   "source": [
    "import numpy as np"
   ]
  },
  {
   "cell_type": "code",
   "execution_count": 6,
   "id": "6439e98f-7aa8-457a-9f50-9b500b3248e0",
   "metadata": {},
   "outputs": [
    {
     "data": {
      "text/plain": [
       "[0, 1, 2, 3, 4, 5, 6, 7, 8, 9]"
      ]
     },
     "execution_count": 6,
     "metadata": {},
     "output_type": "execute_result"
    }
   ],
   "source": [
    "list(range(0,10)) ## this is a python list "
   ]
  },
  {
   "cell_type": "code",
   "execution_count": 7,
   "id": "69fa9f8b-4303-434b-b661-8f2e252092d9",
   "metadata": {},
   "outputs": [
    {
     "data": {
      "text/plain": [
       "array([0, 1, 2, 3, 4, 5, 6, 7, 8, 9])"
      ]
     },
     "execution_count": 7,
     "metadata": {},
     "output_type": "execute_result"
    }
   ],
   "source": [
    "np.arange(0,10) ## And this is the way to do a numpy array."
   ]
  },
  {
   "cell_type": "code",
   "execution_count": 12,
   "id": "d07a9d78-0b6c-41e6-93e6-3229dc7ff7e9",
   "metadata": {},
   "outputs": [
    {
     "data": {
      "text/plain": [
       "array([0., 0., 0., 0., 0., 0., 0., 0., 0., 0.])"
      ]
     },
     "execution_count": 12,
     "metadata": {},
     "output_type": "execute_result"
    }
   ],
   "source": [
    "np.zeros(10) # making an array of zeros"
   ]
  },
  {
   "cell_type": "code",
   "execution_count": 13,
   "id": "5c904647-9f17-4f02-92d2-b7782caf2349",
   "metadata": {
    "tags": []
   },
   "outputs": [
    {
     "data": {
      "text/plain": [
       "array([[0., 0., 0., 0., 0.],\n",
       "       [0., 0., 0., 0., 0.],\n",
       "       [0., 0., 0., 0., 0.],\n",
       "       [0., 0., 0., 0., 0.],\n",
       "       [0., 0., 0., 0., 0.],\n",
       "       [0., 0., 0., 0., 0.],\n",
       "       [0., 0., 0., 0., 0.],\n",
       "       [0., 0., 0., 0., 0.],\n",
       "       [0., 0., 0., 0., 0.],\n",
       "       [0., 0., 0., 0., 0.]])"
      ]
     },
     "execution_count": 13,
     "metadata": {},
     "output_type": "execute_result"
    }
   ],
   "source": [
    "np.zeros((10,5)) # making a matrix array of zeros, this can be useful as a preliminary outline"
   ]
  },
  {
   "cell_type": "code",
   "execution_count": 14,
   "id": "493f4fe3-382d-4c04-b0df-0f28c7117cdf",
   "metadata": {
    "tags": []
   },
   "outputs": [
    {
     "data": {
      "text/plain": [
       "array([[1., 1., 1., 1., 1.],\n",
       "       [1., 1., 1., 1., 1.],\n",
       "       [1., 1., 1., 1., 1.],\n",
       "       [1., 1., 1., 1., 1.],\n",
       "       [1., 1., 1., 1., 1.],\n",
       "       [1., 1., 1., 1., 1.],\n",
       "       [1., 1., 1., 1., 1.],\n",
       "       [1., 1., 1., 1., 1.],\n",
       "       [1., 1., 1., 1., 1.],\n",
       "       [1., 1., 1., 1., 1.]])"
      ]
     },
     "execution_count": 14,
     "metadata": {},
     "output_type": "execute_result"
    }
   ],
   "source": [
    "np.ones((10,5)) # thes same than before but whit ones"
   ]
  },
  {
   "cell_type": "code",
   "execution_count": 15,
   "id": "7e014758-c981-4dd8-915d-b3f1379044a0",
   "metadata": {},
   "outputs": [
    {
     "data": {
      "text/plain": [
       "array([10., 10., 10., 10., 10., 10., 10., 10., 10., 10.])"
      ]
     },
     "execution_count": 15,
     "metadata": {},
     "output_type": "execute_result"
    }
   ],
   "source": [
    "np.linspace(10,10,10) ## generatin an array of numbers from a numeric defined range and the quantity of them, whit linspace function"
   ]
  },
  {
   "cell_type": "code",
   "execution_count": 16,
   "id": "70307653-ff06-4f4e-bd96-795c9257a00b",
   "metadata": {},
   "outputs": [
    {
     "data": {
      "text/plain": [
       "array([[1., 0., 0., 0.],\n",
       "       [0., 1., 0., 0.],\n",
       "       [0., 0., 1., 0.],\n",
       "       [0., 0., 0., 1.]])"
      ]
     },
     "execution_count": 16,
     "metadata": {},
     "output_type": "execute_result"
    }
   ],
   "source": [
    "np.eye(4) ## for the \"lineal algebra\" lovers, whit np eye function, we can make a matrix whit the main diagonal value in 1 and the others in zeros."
   ]
  },
  {
   "cell_type": "code",
   "execution_count": 21,
   "id": "ed4be185-1ac9-490c-8ba4-32f078f5d251",
   "metadata": {},
   "outputs": [
    {
     "data": {
      "text/plain": [
       "0.7544856578374471"
      ]
     },
     "execution_count": 21,
     "metadata": {},
     "output_type": "execute_result"
    }
   ],
   "source": [
    "np.random.rand() ## generating random float numbers between 0 and 1, whit the random rand function"
   ]
  },
  {
   "cell_type": "code",
   "execution_count": 23,
   "id": "bbb95c97-08a5-4e52-9722-d3314e892475",
   "metadata": {},
   "outputs": [
    {
     "data": {
      "text/plain": [
       "array([[0.57701169, 0.9215408 , 0.98672252, 0.18638256, 0.3021187 ],\n",
       "       [0.00685735, 0.47033149, 0.92853209, 0.21263552, 0.95613071],\n",
       "       [0.13344467, 0.50086188, 0.96111575, 0.58866307, 0.20567636],\n",
       "       [0.55633564, 0.33730867, 0.62787283, 0.9626005 , 0.74061461],\n",
       "       [0.77090913, 0.18380534, 0.54948175, 0.55793573, 0.87005487]])"
      ]
     },
     "execution_count": 23,
     "metadata": {},
     "output_type": "execute_result"
    }
   ],
   "source": [
    "np.random.rand(5,5) ## matrix of random float numbers"
   ]
  }
 ],
 "metadata": {
  "kernelspec": {
   "display_name": "Python 3 (ipykernel)",
   "language": "python",
   "name": "python3"
  },
  "language_info": {
   "codemirror_mode": {
    "name": "ipython",
    "version": 3
   },
   "file_extension": ".py",
   "mimetype": "text/x-python",
   "name": "python",
   "nbconvert_exporter": "python",
   "pygments_lexer": "ipython3",
   "version": "3.9.12"
  }
 },
 "nbformat": 4,
 "nbformat_minor": 5
}
