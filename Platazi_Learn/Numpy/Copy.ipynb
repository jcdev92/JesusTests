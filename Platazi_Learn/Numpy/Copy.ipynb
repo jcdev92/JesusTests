{
 "cells": [
  {
   "cell_type": "markdown",
   "id": "adb3a64b-b48b-4478-85b1-ed7a976e1e25",
   "metadata": {
    "tags": []
   },
   "source": [
    "# Funciones de Numpy"
   ]
  },
  {
   "cell_type": "markdown",
   "id": "b04cb90b-a705-4c40-9e23-90db540bfc15",
   "metadata": {
    "jp-MarkdownHeadingCollapsed": true,
    "tags": []
   },
   "source": [
    "## Apuntes"
   ]
  },
  {
   "cell_type": "markdown",
   "id": "5f2f2d2e-727c-47d3-87bc-b5c00e43eea1",
   "metadata": {},
   "source": [
    ".copy() nos permite copiar un array de NumPy en otra variable de tal forma que al modificar el nuevo array los cambios no se vean reflejados en array original.\n",
    "\n",
    "arr = np.arange(0, 11)\n",
    "arr ----> array([ 0,  1,  2,  3,  4,  5,  6,  7,  8,  9, 10])\n",
    "arr[0:6] ----> array([0, 1, 2, 3, 4, 5])\n",
    "trozo_de_arr = arr[0:6]\n",
    "trozo_de_arr[:] = 0\n",
    "trozo_de_arr ----> array([0, 0, 0, 0, 0, 0])"
   ]
  },
  {
   "cell_type": "markdown",
   "id": "f72158b3-83e6-4b9d-a7b9-d44d78b1fa40",
   "metadata": {},
   "source": [
    "Se han modificado los datos del array original porque seguía haciendo referencia a esa variable.\n",
    "\n",
    "arr ----> array([ 0,  0,  0,  0,  0,  0,  6,  7,  8,  9, 10])\n",
    "arr_copy = arr.copy()\n",
    "arr_copy[:] = 100\n",
    "arr_copy ----> array([100, 100, 100, 100, 100, 100, 100, 100, 100, 100, 100])\n",
    "arr ----> array([ 0,  0,  0,  0,  0,  0,  6,  7,  8,  9, 10])"
   ]
  },
  {
   "cell_type": "markdown",
   "id": "cedfd8ad-602e-4854-b5b8-c10147d41d51",
   "metadata": {},
   "source": [
    "## Copy"
   ]
  },
  {
   "cell_type": "code",
   "execution_count": 7,
   "id": "230abb9b-3ae6-4f86-8af2-c1e2730beb41",
   "metadata": {},
   "outputs": [],
   "source": [
    "import numpy as np"
   ]
  },
  {
   "cell_type": "code",
   "execution_count": 8,
   "id": "44745ea4-84db-4e90-bf88-bae9867b3b75",
   "metadata": {},
   "outputs": [
    {
     "data": {
      "text/plain": [
       "array([ 0,  1,  2,  3,  4,  5,  6,  7,  8,  9, 10])"
      ]
     },
     "execution_count": 8,
     "metadata": {},
     "output_type": "execute_result"
    }
   ],
   "source": [
    "arr = np.arange(0,11)\n",
    "arr"
   ]
  },
  {
   "cell_type": "code",
   "execution_count": 9,
   "id": "83b68550-9f1c-4f22-8cb4-f5dc30db4478",
   "metadata": {},
   "outputs": [
    {
     "data": {
      "text/plain": [
       "array([0, 1, 2, 3, 4, 5])"
      ]
     },
     "execution_count": 9,
     "metadata": {},
     "output_type": "execute_result"
    }
   ],
   "source": [
    "piece = arr[0:6]\n",
    "piece"
   ]
  },
  {
   "cell_type": "code",
   "execution_count": 11,
   "id": "0ef8d9a2-9441-44c3-9c11-1504246a9641",
   "metadata": {},
   "outputs": [
    {
     "data": {
      "text/plain": [
       "array([0, 0, 0, 0, 0, 0])"
      ]
     },
     "execution_count": 11,
     "metadata": {},
     "output_type": "execute_result"
    }
   ],
   "source": [
    "piece[:] = 0\n",
    "piece"
   ]
  },
  {
   "cell_type": "code",
   "execution_count": 12,
   "id": "c1448861-84ac-40f6-b2a1-de707bb98c9c",
   "metadata": {},
   "outputs": [
    {
     "data": {
      "text/plain": [
       "array([ 0,  0,  0,  0,  0,  0,  6,  7,  8,  9, 10])"
      ]
     },
     "execution_count": 12,
     "metadata": {},
     "output_type": "execute_result"
    }
   ],
   "source": [
    "arr     ## DAMAGED ARRAY!, THATS WHY WE USE FUNCTION COPY"
   ]
  },
  {
   "cell_type": "code",
   "execution_count": 27,
   "id": "19bf6535-7a18-4f64-adb7-6d6183cb1976",
   "metadata": {},
   "outputs": [
    {
     "data": {
      "text/plain": [
       "array([ 0,  1,  2,  3,  4,  5,  6,  7,  8,  9, 10])"
      ]
     },
     "execution_count": 27,
     "metadata": {},
     "output_type": "execute_result"
    }
   ],
   "source": [
    "for i in range(0,6): #Fixing the arr\n",
    "    arr[i] = i\n",
    "arr"
   ]
  },
  {
   "cell_type": "code",
   "execution_count": 28,
   "id": "b8ca12d9-f85a-4ed3-bf6c-11792abdfddb",
   "metadata": {
    "tags": []
   },
   "outputs": [
    {
     "data": {
      "text/plain": [
       "array([ 0,  1,  2,  3,  4,  5,  6,  7,  8,  9, 10])"
      ]
     },
     "execution_count": 28,
     "metadata": {},
     "output_type": "execute_result"
    }
   ],
   "source": [
    "arr_copy = arr.copy()   # COPY THE ARR FATHER TO A NEW VARIABLE IMAGE OF HIM\n",
    "arr_copy"
   ]
  },
  {
   "cell_type": "code",
   "execution_count": 31,
   "id": "4adbe0a3-76c4-47a8-99f4-c3d1292b7d55",
   "metadata": {},
   "outputs": [
    {
     "data": {
      "text/plain": [
       "array([100, 100, 100, 100, 100, 100, 100, 100, 100, 100, 100])"
      ]
     },
     "execution_count": 31,
     "metadata": {},
     "output_type": "execute_result"
    }
   ],
   "source": [
    "arr_copy[:] = 100 # Changing the arr_copy values\n",
    "arr_copy"
   ]
  },
  {
   "cell_type": "code",
   "execution_count": 32,
   "id": "4d2d1bfa-07de-4cd5-8b63-6b7aa0dd85d5",
   "metadata": {},
   "outputs": [
    {
     "data": {
      "text/plain": [
       "array([ 0,  1,  2,  3,  4,  5,  6,  7,  8,  9, 10])"
      ]
     },
     "execution_count": 32,
     "metadata": {},
     "output_type": "execute_result"
    }
   ],
   "source": [
    "arr #arr original"
   ]
  },
  {
   "cell_type": "markdown",
   "id": "85fafb07-47d3-4800-b744-8bd3443212cb",
   "metadata": {},
   "source": [
    "##### También es posible copiar el array original y hacer el slicing en la misma linea"
   ]
  },
  {
   "cell_type": "code",
   "execution_count": 33,
   "id": "85fa72f4-565a-4c37-a306-1cc0da078c52",
   "metadata": {},
   "outputs": [
    {
     "data": {
      "text/plain": [
       "[1, 2, 3, 4, 5, 6]"
      ]
     },
     "execution_count": 33,
     "metadata": {},
     "output_type": "execute_result"
    }
   ],
   "source": [
    "a = [1,2,3,4,5,6,7,8,9,10]\n",
    "b = a.copy()[:6]\n",
    "b"
   ]
  }
 ],
 "metadata": {
  "kernelspec": {
   "display_name": "Python 3 (ipykernel)",
   "language": "python",
   "name": "python3"
  },
  "language_info": {
   "codemirror_mode": {
    "name": "ipython",
    "version": 3
   },
   "file_extension": ".py",
   "mimetype": "text/x-python",
   "name": "python",
   "nbconvert_exporter": "python",
   "pygments_lexer": "ipython3",
   "version": "3.9.12"
  }
 },
 "nbformat": 4,
 "nbformat_minor": 5
}
