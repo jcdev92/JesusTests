{
 "cells": [
  {
   "cell_type": "markdown",
   "id": "93f667c1",
   "metadata": {},
   "source": [
    "## NumPy Types"
   ]
  },
  {
   "cell_type": "code",
   "execution_count": 9,
   "id": "1c606f48",
   "metadata": {},
   "outputs": [],
   "source": [
    "import numpy as np"
   ]
  },
  {
   "cell_type": "code",
   "execution_count": 28,
   "id": "166b42bc",
   "metadata": {},
   "outputs": [
    {
     "data": {
      "text/plain": [
       "array([1, 2, 3, 4, 5, 6])"
      ]
     },
     "execution_count": 28,
     "metadata": {},
     "output_type": "execute_result"
    }
   ],
   "source": [
    "data = [1,2,3,4,5,6]\n",
    "arr = np.array(data)\n",
    "arr"
   ]
  },
  {
   "cell_type": "markdown",
   "id": "062fefd8-c58c-480a-a9f9-6c877488b6cf",
   "metadata": {},
   "source": [
    "#### Value type of array"
   ]
  },
  {
   "cell_type": "code",
   "execution_count": 29,
   "id": "c1e32530-1023-433d-a432-7e4be6b1b03e",
   "metadata": {},
   "outputs": [
    {
     "data": {
      "text/plain": [
       "dtype('int64')"
      ]
     },
     "execution_count": 29,
     "metadata": {},
     "output_type": "execute_result"
    }
   ],
   "source": [
    "arr.dtype"
   ]
  },
  {
   "cell_type": "markdown",
   "id": "5b94c604",
   "metadata": {
    "tags": []
   },
   "source": [
    "#### Changing integer array to float array type"
   ]
  },
  {
   "cell_type": "code",
   "execution_count": 13,
   "id": "ea9ba0b6",
   "metadata": {
    "tags": []
   },
   "outputs": [
    {
     "data": {
      "text/plain": [
       "array([1., 2., 3., 4., 5., 6.])"
      ]
     },
     "execution_count": 13,
     "metadata": {},
     "output_type": "execute_result"
    }
   ],
   "source": [
    "arr.astype(np.float64)\n",
    "arr"
   ]
  },
  {
   "cell_type": "markdown",
   "id": "2842ea2d",
   "metadata": {},
   "source": [
    "#### Init an array whit Float type values"
   ]
  },
  {
   "cell_type": "code",
   "execution_count": 30,
   "id": "d522fc95",
   "metadata": {},
   "outputs": [
    {
     "data": {
      "text/plain": [
       "dtype('float64')"
      ]
     },
     "execution_count": 30,
     "metadata": {},
     "output_type": "execute_result"
    }
   ],
   "source": [
    "arr = np.array(data, dtype='float64')\n",
    "arr.dtype"
   ]
  },
  {
   "cell_type": "code",
   "execution_count": 31,
   "id": "44a6716c",
   "metadata": {},
   "outputs": [
    {
     "data": {
      "text/plain": [
       "array([1., 2., 3., 4., 5., 6.])"
      ]
     },
     "execution_count": 31,
     "metadata": {},
     "output_type": "execute_result"
    }
   ],
   "source": [
    "arr"
   ]
  },
  {
   "cell_type": "markdown",
   "id": "1849f031",
   "metadata": {},
   "source": [
    "#### changing array type to boolean"
   ]
  },
  {
   "cell_type": "code",
   "execution_count": 32,
   "id": "d5eeac5a",
   "metadata": {},
   "outputs": [
    {
     "data": {
      "text/plain": [
       "array([ True,  True,  True,  True,  True,  True])"
      ]
     },
     "execution_count": 32,
     "metadata": {},
     "output_type": "execute_result"
    }
   ],
   "source": [
    "arr2 = arr.astype(np.bool_)\n",
    "arr2"
   ]
  },
  {
   "cell_type": "markdown",
   "id": "7fe534ab-7d72-47a5-8fe9-593c39660ce1",
   "metadata": {},
   "source": [
    "#### Changing array type to string"
   ]
  },
  {
   "cell_type": "code",
   "execution_count": 33,
   "id": "a1f44620",
   "metadata": {},
   "outputs": [
    {
     "data": {
      "text/plain": [
       "array([b'1.0', b'2.0', b'3.0', b'4.0', b'5.0', b'6.0'], dtype='|S32')"
      ]
     },
     "execution_count": 33,
     "metadata": {},
     "output_type": "execute_result"
    }
   ],
   "source": [
    "arr.astype(np.string_)"
   ]
  },
  {
   "cell_type": "markdown",
   "id": "c451f524-c80d-49a3-8387-17b583bddb30",
   "metadata": {},
   "source": [
    "#### Changing array type to integer"
   ]
  },
  {
   "cell_type": "code",
   "execution_count": 35,
   "id": "d94276c5",
   "metadata": {},
   "outputs": [
    {
     "data": {
      "text/plain": [
       "array([1, 2, 3, 4, 5, 6], dtype=int8)"
      ]
     },
     "execution_count": 35,
     "metadata": {},
     "output_type": "execute_result"
    }
   ],
   "source": [
    "arr3 = arr.astype(np.int8)\n",
    "arr3"
   ]
  }
 ],
 "metadata": {
  "kernelspec": {
   "display_name": "Python 3 (ipykernel)",
   "language": "python",
   "name": "python3"
  },
  "language_info": {
   "codemirror_mode": {
    "name": "ipython",
    "version": 3
   },
   "file_extension": ".py",
   "mimetype": "text/x-python",
   "name": "python",
   "nbconvert_exporter": "python",
   "pygments_lexer": "ipython3",
   "version": "3.9.12"
  }
 },
 "nbformat": 4,
 "nbformat_minor": 5
}
