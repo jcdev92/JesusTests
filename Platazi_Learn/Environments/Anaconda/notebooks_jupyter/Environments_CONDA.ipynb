{
 "cells": [
  {
   "cell_type": "markdown",
   "metadata": {},
   "source": [
    "# **CREAR AMBIENTES DESDE LA CONSOLA CON ANACONDA**\n",
    "# **Y USARLOS EN VISUAL STUDIO CODE**"
   ]
  },
  {
   "cell_type": "markdown",
   "metadata": {},
   "source": [
    "# **APUNTES**"
   ]
  },
  {
   "cell_type": "markdown",
   "metadata": {},
   "source": [
    "#### ¿En qué lugares programar para ciencia de datos?\n",
    "Existen muchas plataformas para trabajar en Data Science, se recomiendo usar algún Sistema Operativo basado en UNIX usando Linux, MacOS o WSL en Windows, en editores estan VSCode, PyCharm, Deepnote, Google Colab, y el que usaremos Jupyter, todo basado en Notebooks que te permiten ir ejecutando trozos de código, en el cual puedes escribir pocas lineas de código probarlas, asegurarse de que estén bien y seguir adelante con otro trozo, allí también se pueden añadir código, ecuaciones, gráficas, texto enriquecido, etc.\n",
    "\n",
    "#### Notebooks Vs Scripts\n",
    "Ambos son útiles, aunque los Scripts son mas directos, los Notebooks te permiten ver lo que haces, a medida de que lo haces, en estos puedes encargarte de experimentar y hacer el prototipado de tu script y finalmente pasarlo a un Script cuando ya este listo y estés seguro de que todo funciona como es esperado"
   ]
  },
  {
   "cell_type": "markdown",
   "metadata": {},
   "source": [
    "# **CODIGOS PYTHON**"
   ]
  },
  {
   "cell_type": "code",
   "execution_count": 3,
   "metadata": {},
   "outputs": [
    {
     "name": "stdout",
     "output_type": "stream",
     "text": [
      "Hola mundo\n"
     ]
    }
   ],
   "source": [
    "print('Hola mundo')\n"
   ]
  },
  {
   "cell_type": "code",
   "execution_count": 2,
   "metadata": {},
   "outputs": [],
   "source": [
    "pastor = 'de iglesia'\n"
   ]
  },
  {
   "cell_type": "markdown",
   "metadata": {},
   "source": []
  },
  {
   "cell_type": "markdown",
   "metadata": {},
   "source": []
  },
  {
   "cell_type": "markdown",
   "metadata": {},
   "source": []
  },
  {
   "cell_type": "markdown",
   "metadata": {},
   "source": [
    "# **COMANDOS**"
   ]
  },
  {
   "cell_type": "markdown",
   "metadata": {},
   "source": [
    "#### **CONDA**\n",
    "\n",
    "#### create new enviroment\n",
    "    conda create --name [nameenv] [package]=[version]\n",
    "\n",
    "#### list package enviroment\n",
    "    conda list\n",
    "\n",
    "#### install / update package\n",
    "    conda update [package]\n",
    "    conda install [package]=version\n",
    "\n",
    "#### clone enviroment\n",
    "    conda create --name [envdestinate] --copy --clone [envorigin]\n",
    "\n",
    "#### Borrar Libreria\n",
    "    conda remove pandas\n",
    "\n",
    "#### Borrar Ambiente virtual\n",
    "    conda env remove --name py35\n",
    "    conda env list\n",
    "    conda deactivate\n",
    "    conda env remove --name py39\n",
    "\n",
    "#### Crear ambiente\n",
    "    conda create --name py39 python=3.9 pandas=1.2\n",
    "\n",
    "#### Ir al ambiente\n",
    "    conda activate py39\n",
    "\n",
    "#### Instalar boltons\n",
    "    conda install -c conda-forge boltons\n",
    "\n",
    "#### Devolver a un punto anterioR y asi no tener que remover\n",
    "    conda list -r\n",
    "\n",
    "#### Devolverme a la revision 0\n",
    "    conda install --revision 0\n",
    "\n",
    "#### Revisar si esta instalado\n",
    "    conda list boltons\n",
    "\n",
    "#### Exportar tu ambiente\n",
    "    conda env export\n",
    "\n",
    "#### Exportar tu ambiente pero sin las versiones\n",
    "    conda env export --no-builds\n",
    "\n",
    "#### Exportar tu ambiente LA MEJOR\n",
    "    conda env export --from-history\n",
    "\n",
    "#### Exportar tu ambiente a un archivo\n",
    "    conda env export --from-history --file environment.yml\n",
    "\n",
    "#### Remover ambiente \n",
    "    conda env remove --name py39\n",
    "\n",
    "#### Importar el ambiente\n",
    "    conda env create --file environment.yaml\n",
    "\n",
    "#### Ir al ambiente \n",
    "    conda activate py39\n",
    "\n",
    "#### **MAMBA**\n",
    "\n",
    "#### Instalar MANBA\n",
    "    conda install --channel conda-forge mamba\n",
    "    mamba help \n",
    "    mamba --help\n",
    "#### Desinstalar ambiente\n",
    "    conda env remove --name py39\n",
    "#### Con MANBA\n",
    "    mamba env create --file environment.yaml\n",
    "#### Activar ambiente\n",
    "    conda activate py39"
   ]
  }
 ],
 "metadata": {
  "interpreter": {
   "hash": "31f2aee4e71d21fbe5cf8b01ff0e069b9275f58929596ceb00d14d90e3e16cd6"
  },
  "kernelspec": {
   "display_name": "Python 3.8.10 64-bit",
   "language": "python",
   "name": "python3"
  },
  "language_info": {
   "codemirror_mode": {
    "name": "ipython",
    "version": 3
   },
   "file_extension": ".py",
   "mimetype": "text/x-python",
   "name": "python",
   "nbconvert_exporter": "python",
   "pygments_lexer": "ipython3",
   "version": "3.9.7"
  },
  "orig_nbformat": 4
 },
 "nbformat": 4,
 "nbformat_minor": 2
}
